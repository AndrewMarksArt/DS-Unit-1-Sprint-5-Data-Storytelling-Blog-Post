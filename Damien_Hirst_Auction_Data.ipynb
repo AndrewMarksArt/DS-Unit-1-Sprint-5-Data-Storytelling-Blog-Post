{
  "nbformat": 4,
  "nbformat_minor": 0,
  "metadata": {
    "colab": {
      "name": "Damien_Hirst_Auction_Data.ipynb",
      "version": "0.3.2",
      "provenance": []
    },
    "kernelspec": {
      "name": "python3",
      "display_name": "Python 3"
    }
  },
  "cells": [
    {
      "cell_type": "code",
      "metadata": {
        "id": "STjPZnFyuI92",
        "colab_type": "code",
        "colab": {}
      },
      "source": [
        "import pandas as pd\n",
        "import numpy as np"
      ],
      "execution_count": 0,
      "outputs": []
    },
    {
      "cell_type": "code",
      "metadata": {
        "id": "G3CPhVW2xplu",
        "colab_type": "code",
        "colab": {}
      },
      "source": [
        "def clean_estimate(estimate):\n",
        "  \"\"\"\n",
        "  takes the estimate column, adds low estimate, high estimate, and currency\n",
        "  columns to the dataframe and drops the original estimate column.\n",
        "  :param: estimate = list (df column)\n",
        "  returns: none, adds the columns and drop the column when called\n",
        "  \"\"\"\n",
        "  low = []\n",
        "  high = []\n",
        "  currency = []\n",
        "\n",
        "  for i in range(len(estimate)):\n",
        "    est = estimate[i]\n",
        "    try:\n",
        "      temp = est.split()\n",
        "      if len(temp) == 4:\n",
        "        low.append(temp[0])\n",
        "        high.append(temp[2])\n",
        "        currency.append(temp[3])\n",
        "      elif len(temp) == 2:\n",
        "        low.append(temp[0])\n",
        "        high.append(np.nan)\n",
        "        currency.append(temp[1])\n",
        "      else:\n",
        "        low.append(np.nan)\n",
        "        high.append(np.nan)\n",
        "        currency.append(np.nan)\n",
        "    except:\n",
        "      pass\n",
        "    \n",
        "  auction_history['Low Estimate'] = low\n",
        "  auction_history['High Estimate'] = high\n",
        "  auction_history['Currency'] = currency\n",
        "  auction_history.drop(['Estimate_Range'], axis=1, inplace=True)\n",
        "  return\n",
        "\n",
        "def clean_realized_price(prices):\n",
        "  \"\"\"\n",
        "  takes realized prices from df and removes currency leaving just the numeric value\n",
        "  :param: prices = list, df column realized_price\n",
        "  return: list\n",
        "  \"\"\"\n",
        "  for i in range(len(prices)):\n",
        "    try:\n",
        "      temp = prices[i].split()\n",
        "      if len(temp) < 2:\n",
        "        prices[i] = -1\n",
        "      else:\n",
        "        prices[i] = temp[0]\n",
        "    except:\n",
        "      pass\n",
        "  \n",
        "  return prices"
      ],
      "execution_count": 0,
      "outputs": []
    },
    {
      "cell_type": "code",
      "metadata": {
        "id": "HSRhbRpDuWCZ",
        "colab_type": "code",
        "colab": {},
        "outputId": "119445a5-117a-4229-fc6c-c1f0b1e78940"
      },
      "source": [
        "auction_history = pd.read_csv('https://raw.githubusercontent.com/AndrewMarksArt/DS-Unit-1-Sprint-5-Data-Storytelling-Blog-Post/master/Damien_Hirst_Auction_Results.csv')\n",
        "auction_history.drop(['ID_Batch_Loop#', 'Artist_Name', 'Date_Created', 'Size'], axis=1, inplace=True)\n",
        "auction_history = auction_history.rename(columns={'Sale_Date': 'Date'})\n",
        "auction_history.head()"
      ],
      "execution_count": 0,
      "outputs": []
    },
    {
      "cell_type": "code",
      "metadata": {
        "id": "AlD71skHuWkg",
        "colab_type": "code",
        "colab": {},
        "outputId": "87f7af50-bb93-4658-bf4a-66f6e61e4609"
      },
      "source": [
        "auction_history.shape"
      ],
      "execution_count": 0,
      "outputs": []
    },
    {
      "cell_type": "code",
      "metadata": {
        "id": "TzZkrGcmuWhR",
        "colab_type": "code",
        "colab": {},
        "outputId": "049e8c9a-9a9b-4fbf-a61f-7e7236424f30"
      },
      "source": [
        "fx = pd.read_csv('https://raw.githubusercontent.com/AndrewMarksArt/DS-Unit-1-Sprint-5-Data-Storytelling-Blog-Post/master/additional_fx_data.csv')\n",
        "fx.head()"
      ],
      "execution_count": 0,
      "outputs": []
    },
    {
      "cell_type": "code",
      "metadata": {
        "id": "Puc5r7jEv9W4",
        "colab_type": "code",
        "colab": {}
      },
      "source": [
        "clean_estimate(auction_history['Estimate_Range'])\n",
        "auction_history['Realized_Price'] = clean_realized_price(auction_history['Realized_Price'])"
      ],
      "execution_count": 0,
      "outputs": []
    },
    {
      "cell_type": "code",
      "metadata": {
        "id": "R_gW7dW5x3tX",
        "colab_type": "code",
        "colab": {},
        "outputId": "1c648354-2940-443c-971e-a232c58f9c3a"
      },
      "source": [
        "auction_history.head()"
      ],
      "execution_count": 0,
      "outputs": []
    },
    {
      "cell_type": "code",
      "metadata": {
        "id": "j2WEpPAOyElG",
        "colab_type": "code",
        "colab": {}
      },
      "source": [
        "for i in range(len(auction_history['Currency'])):\n",
        "  try:\n",
        "    if '*' in auction_history['Currency'][i]:\n",
        "      auction_history['Currency'][i] = 'EUR'\n",
        "    if 'Sold' in auction_history['Currency'][i]:\n",
        "      auction_history['Currency'][i] = np.nan\n",
        "  except:\n",
        "    pass"
      ],
      "execution_count": 0,
      "outputs": []
    },
    {
      "cell_type": "code",
      "metadata": {
        "id": "TKKGe2jFyH-u",
        "colab_type": "code",
        "colab": {}
      },
      "source": [
        "auction_history['Currency'].fillna('USD', inplace=True)"
      ],
      "execution_count": 0,
      "outputs": []
    },
    {
      "cell_type": "code",
      "metadata": {
        "id": "BafZhLw8yJ9d",
        "colab_type": "code",
        "colab": {}
      },
      "source": [
        "country_dict = {'GBP': 'United Kingdom', 'USD': 'United States', 'EUR': 'Europe', 'HKD': 'Hong Kong', 'CNY': 'China', 'CHF': 'Switzerland',\n",
        "             'SEK': 'Sweden', 'JPY': 'Japan', 'KRW': 'South Korea', 'AUD': 'Australia', 'NOK': 'Norway', 'ZAR': 'South Africa', 'DKK': 'Denmark', 'NZD': 'New Zealand', \n",
        "               'TWD': 'Taiwan', 'SGD': 'Singapore', 'MXN': 'Mexico', 'CZK': 'Czech Republic'}"
      ],
      "execution_count": 0,
      "outputs": []
    },
    {
      "cell_type": "code",
      "metadata": {
        "id": "KtmOb1lYyM1O",
        "colab_type": "code",
        "colab": {}
      },
      "source": [
        "country = []\n",
        "currency = auction_history['Currency']\n",
        "\n",
        "for i in range(len(currency)):\n",
        "  try:\n",
        "    country.append(country_dict.get(currency[i]))\n",
        "  except:\n",
        "    pass\n",
        "    \n",
        "auction_history['Country'] = country"
      ],
      "execution_count": 0,
      "outputs": []
    },
    {
      "cell_type": "code",
      "metadata": {
        "id": "gvXHow_5yQkl",
        "colab_type": "code",
        "colab": {}
      },
      "source": [
        "sale = auction_history['Date']\n",
        "for i in range(len(sale)):\n",
        "  try:\n",
        "    if 'no' in sale[i]:\n",
        "      sale[i] = np.nan\n",
        "  except:\n",
        "    pass"
      ],
      "execution_count": 0,
      "outputs": []
    },
    {
      "cell_type": "code",
      "metadata": {
        "id": "py9MrW2JySrc",
        "colab_type": "code",
        "colab": {}
      },
      "source": [
        "auction_history['Date'] = pd.to_datetime(auction_history['Date'])"
      ],
      "execution_count": 0,
      "outputs": []
    },
    {
      "cell_type": "code",
      "metadata": {
        "id": "rAtYm1BsyWS9",
        "colab_type": "code",
        "colab": {}
      },
      "source": [
        "price = []\n",
        "\n",
        "for i in range(len(auction_history['Realized_Price'])):\n",
        "  try:\n",
        "    if 'Not' in auction_history['Realized_Price'][i]:\n",
        "      price.append(0)\n",
        "    elif 'not' in auction_history['Realized_Price'][i]:\n",
        "      price.append(0)\n",
        "    else:\n",
        "      price.append(auction_history['Realized_Price'][i])\n",
        "  except:\n",
        "    price.append(0)\n",
        "\n",
        "auction_history['Realized_Price'] = price"
      ],
      "execution_count": 0,
      "outputs": []
    },
    {
      "cell_type": "code",
      "metadata": {
        "id": "Scae65oEyaH3",
        "colab_type": "code",
        "colab": {}
      },
      "source": [
        "auction_history['Realized_Price'] = auction_history['Realized_Price'].str.replace(',','')\n",
        "auction_history['Low Estimate'] = auction_history['Low Estimate'].str.replace(',','')\n",
        "auction_history['High Estimate'] = auction_history['High Estimate'].str.replace(',','')"
      ],
      "execution_count": 0,
      "outputs": []
    },
    {
      "cell_type": "code",
      "metadata": {
        "id": "wbsW7SVkyc6h",
        "colab_type": "code",
        "colab": {}
      },
      "source": [
        "auction_history['Realized_Price'] = auction_history['Realized_Price'].fillna(0)\n",
        "auction_history = auction_history.dropna(subset=['Low Estimate'])\n",
        "low = auction_history['Low Estimate'].where(auction_history['High Estimate'].isnull()).dropna()\n",
        "auction_history['High Estimate'] = auction_history['High Estimate'].fillna(low)"
      ],
      "execution_count": 0,
      "outputs": []
    },
    {
      "cell_type": "code",
      "metadata": {
        "id": "jR4zgMnUzup8",
        "colab_type": "code",
        "colab": {}
      },
      "source": [
        "house = []\n",
        "temp = auction_history['Auction_House']\n",
        "\n",
        "for i in range(len(temp)):\n",
        "  try:\n",
        "    if \"Sotheby's\" in temp[i]:\n",
        "      house.append(\"Sotheby's\")\n",
        "    elif \"Christie's\" in temp[i]:\n",
        "      house.append(\"Christie's\")\n",
        "    elif \"Phillips\" in temp[i]:\n",
        "      house.append(\"Phillips\")\n",
        "    else:\n",
        "      house.append(\"Other\")\n",
        "  except:\n",
        "    house.append(\"Other\")\n",
        "    \n",
        "auction_history['House'] = house"
      ],
      "execution_count": 0,
      "outputs": []
    },
    {
      "cell_type": "code",
      "metadata": {
        "id": "C8Ye4_vG1zlM",
        "colab_type": "code",
        "colab": {}
      },
      "source": [
        "auction_history = auction_history.dropna(subset=['Date'])"
      ],
      "execution_count": 0,
      "outputs": []
    },
    {
      "cell_type": "code",
      "metadata": {
        "id": "GJbpEEqZ2pK5",
        "colab_type": "code",
        "colab": {},
        "outputId": "4128df18-7c8c-4f56-cee5-172d11d1f4d1"
      },
      "source": [
        "auction_history.head()"
      ],
      "execution_count": 0,
      "outputs": []
    },
    {
      "cell_type": "code",
      "metadata": {
        "id": "Zti2Yxg22A3T",
        "colab_type": "code",
        "colab": {},
        "outputId": "093c2402-9254-4852-96a7-f99c323fd9bd"
      },
      "source": [
        "auction_history.shape"
      ],
      "execution_count": 0,
      "outputs": []
    },
    {
      "cell_type": "code",
      "metadata": {
        "id": "-RPGJ5L72H8r",
        "colab_type": "code",
        "colab": {},
        "outputId": "fa9312aa-4886-4eaa-9426-35b7384d7835"
      },
      "source": [
        "fx = fx.dropna(subset=['Value']).reset_index()\n",
        "fx = fx.rename(columns={'Value': 'FX Rate'})\n",
        "fx = fx.drop('index',axis=1)\n",
        "fx.head()"
      ],
      "execution_count": 0,
      "outputs": []
    },
    {
      "cell_type": "code",
      "metadata": {
        "id": "HeRLPUmh56B_",
        "colab_type": "code",
        "colab": {}
      },
      "source": [
        "fx['Date'] = pd.to_datetime(fx['Date'])"
      ],
      "execution_count": 0,
      "outputs": []
    },
    {
      "cell_type": "code",
      "metadata": {
        "id": "qxcJPyGx22tk",
        "colab_type": "code",
        "colab": {},
        "outputId": "f959c919-ddd2-41c0-b543-92df9b4e818e"
      },
      "source": [
        "merged = pd.merge(auction_history, fx, on=['Date','Country'], how='left')\n",
        "merged.head()"
      ],
      "execution_count": 0,
      "outputs": []
    },
    {
      "cell_type": "code",
      "metadata": {
        "id": "NwmCtp4j6Y4_",
        "colab_type": "code",
        "colab": {},
        "outputId": "6ddb4e6b-4dea-4dea-8c21-bbe483e51dce"
      },
      "source": [
        "merged.shape"
      ],
      "execution_count": 0,
      "outputs": []
    },
    {
      "cell_type": "code",
      "metadata": {
        "id": "Qzcjv4Zn6bq_",
        "colab_type": "code",
        "colab": {},
        "outputId": "fa1809e8-8ba6-4fd9-875e-7360a88449ee"
      },
      "source": [
        "merged['FX Rate'].isnull().sum()"
      ],
      "execution_count": 0,
      "outputs": []
    },
    {
      "cell_type": "code",
      "metadata": {
        "id": "EjXNq7d493hM",
        "colab_type": "code",
        "colab": {},
        "outputId": "ef9f6ea7-4bdc-401c-d21e-ddb1c608d255"
      },
      "source": [
        "usa = merged[merged['Country'] == 'United States']\n",
        "usa['FX Rate'] = usa['FX Rate'].fillna(1)\n",
        "\n",
        "not_usa = merged[merged['Country'] != 'United States']\n",
        "\n",
        "merged = pd.concat([usa, not_usa])"
      ],
      "execution_count": 0,
      "outputs": []
    },
    {
      "cell_type": "code",
      "metadata": {
        "id": "_rEamsDt-sIU",
        "colab_type": "code",
        "colab": {},
        "outputId": "8274dbc6-71d8-4705-9c0b-5b4f0b7a684c"
      },
      "source": [
        "merged.isnull().sum()"
      ],
      "execution_count": 0,
      "outputs": []
    },
    {
      "cell_type": "code",
      "metadata": {
        "colab_type": "code",
        "outputId": "949afe10-387b-44e9-c103-2bf8395f23a5",
        "id": "tesStSS8AOcL",
        "colab": {}
      },
      "source": [
        "merged['FX Rate'].fillna(method='ffill')"
      ],
      "execution_count": 0,
      "outputs": []
    }
  ]
}