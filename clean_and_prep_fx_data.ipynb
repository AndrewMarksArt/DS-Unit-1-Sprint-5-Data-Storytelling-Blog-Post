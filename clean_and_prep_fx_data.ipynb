{
  "nbformat": 4,
  "nbformat_minor": 0,
  "metadata": {
    "colab": {
      "name": "clean_and_prep_fx_data.ipynb",
      "version": "0.3.2",
      "provenance": []
    },
    "kernelspec": {
      "name": "python3",
      "display_name": "Python 3"
    }
  },
  "cells": [
    {
      "cell_type": "code",
      "metadata": {
        "id": "TaqsLWbzI6CG",
        "colab_type": "code",
        "colab": {}
      },
      "source": [
        "import pandas as pd\n",
        "import numpy as np\n",
        "from google.colab import files"
      ],
      "execution_count": 0,
      "outputs": []
    },
    {
      "cell_type": "code",
      "metadata": {
        "id": "TGdzNWXmJEpP",
        "colab_type": "code",
        "outputId": "b121cb88-562f-4ad0-fd44-fa9789ca0dde",
        "colab": {
          "base_uri": "https://localhost:8080/",
          "height": 204
        }
      },
      "source": [
        "fx = pd.read_csv('https://raw.githubusercontent.com/AndrewMarksArt/DS-Unit-1-Sprint-5-Data-Storytelling-Blog-Post/master/historical_fx_rates.csv')\n",
        "fx.head()"
      ],
      "execution_count": 2,
      "outputs": [
        {
          "output_type": "execute_result",
          "data": {
            "text/html": [
              "<div>\n",
              "<style scoped>\n",
              "    .dataframe tbody tr th:only-of-type {\n",
              "        vertical-align: middle;\n",
              "    }\n",
              "\n",
              "    .dataframe tbody tr th {\n",
              "        vertical-align: top;\n",
              "    }\n",
              "\n",
              "    .dataframe thead th {\n",
              "        text-align: right;\n",
              "    }\n",
              "</style>\n",
              "<table border=\"1\" class=\"dataframe\">\n",
              "  <thead>\n",
              "    <tr style=\"text-align: right;\">\n",
              "      <th></th>\n",
              "      <th>DATE</th>\n",
              "      <th>DEXCHUS</th>\n",
              "      <th>DEXDNUS</th>\n",
              "      <th>DEXHKUS</th>\n",
              "      <th>DEXJPUS</th>\n",
              "      <th>DEXKOUS</th>\n",
              "      <th>DEXMXUS</th>\n",
              "      <th>DEXNOUS</th>\n",
              "      <th>DEXSDUS</th>\n",
              "      <th>DEXSIUS</th>\n",
              "      <th>DEXSZUS</th>\n",
              "      <th>DEXTAUS</th>\n",
              "      <th>DEXUSAL</th>\n",
              "      <th>DEXUSEU</th>\n",
              "      <th>DEXUSNZ</th>\n",
              "      <th>DEXUSUK</th>\n",
              "    </tr>\n",
              "  </thead>\n",
              "  <tbody>\n",
              "    <tr>\n",
              "      <th>0</th>\n",
              "      <td>1971-01-04</td>\n",
              "      <td>NaN</td>\n",
              "      <td>7.4850</td>\n",
              "      <td>NaN</td>\n",
              "      <td>357.73</td>\n",
              "      <td>NaN</td>\n",
              "      <td>NaN</td>\n",
              "      <td>7.1359</td>\n",
              "      <td>5.1643</td>\n",
              "      <td>NaN</td>\n",
              "      <td>4.3180</td>\n",
              "      <td>NaN</td>\n",
              "      <td>1.1127</td>\n",
              "      <td>NaN</td>\n",
              "      <td>1.1138</td>\n",
              "      <td>2.3938</td>\n",
              "    </tr>\n",
              "    <tr>\n",
              "      <th>1</th>\n",
              "      <td>1971-01-05</td>\n",
              "      <td>NaN</td>\n",
              "      <td>7.4872</td>\n",
              "      <td>NaN</td>\n",
              "      <td>357.81</td>\n",
              "      <td>NaN</td>\n",
              "      <td>NaN</td>\n",
              "      <td>7.1422</td>\n",
              "      <td>5.1628</td>\n",
              "      <td>NaN</td>\n",
              "      <td>4.3117</td>\n",
              "      <td>NaN</td>\n",
              "      <td>1.1132</td>\n",
              "      <td>NaN</td>\n",
              "      <td>1.1143</td>\n",
              "      <td>2.3949</td>\n",
              "    </tr>\n",
              "    <tr>\n",
              "      <th>2</th>\n",
              "      <td>1971-01-06</td>\n",
              "      <td>NaN</td>\n",
              "      <td>7.4839</td>\n",
              "      <td>NaN</td>\n",
              "      <td>357.86</td>\n",
              "      <td>NaN</td>\n",
              "      <td>NaN</td>\n",
              "      <td>7.1367</td>\n",
              "      <td>5.1614</td>\n",
              "      <td>NaN</td>\n",
              "      <td>4.3113</td>\n",
              "      <td>NaN</td>\n",
              "      <td>1.1140</td>\n",
              "      <td>NaN</td>\n",
              "      <td>1.1151</td>\n",
              "      <td>2.3967</td>\n",
              "    </tr>\n",
              "    <tr>\n",
              "      <th>3</th>\n",
              "      <td>1971-01-07</td>\n",
              "      <td>NaN</td>\n",
              "      <td>7.4850</td>\n",
              "      <td>NaN</td>\n",
              "      <td>357.87</td>\n",
              "      <td>NaN</td>\n",
              "      <td>NaN</td>\n",
              "      <td>7.1386</td>\n",
              "      <td>5.1649</td>\n",
              "      <td>NaN</td>\n",
              "      <td>4.3103</td>\n",
              "      <td>NaN</td>\n",
              "      <td>1.1138</td>\n",
              "      <td>NaN</td>\n",
              "      <td>1.1150</td>\n",
              "      <td>2.3963</td>\n",
              "    </tr>\n",
              "    <tr>\n",
              "      <th>4</th>\n",
              "      <td>1971-01-08</td>\n",
              "      <td>NaN</td>\n",
              "      <td>7.4850</td>\n",
              "      <td>NaN</td>\n",
              "      <td>357.82</td>\n",
              "      <td>NaN</td>\n",
              "      <td>NaN</td>\n",
              "      <td>7.1382</td>\n",
              "      <td>5.1631</td>\n",
              "      <td>NaN</td>\n",
              "      <td>4.3109</td>\n",
              "      <td>NaN</td>\n",
              "      <td>1.1124</td>\n",
              "      <td>NaN</td>\n",
              "      <td>1.1154</td>\n",
              "      <td>2.3972</td>\n",
              "    </tr>\n",
              "  </tbody>\n",
              "</table>\n",
              "</div>"
            ],
            "text/plain": [
              "         DATE  DEXCHUS  DEXDNUS  DEXHKUS  ...  DEXUSAL  DEXUSEU  DEXUSNZ  DEXUSUK\n",
              "0  1971-01-04      NaN   7.4850      NaN  ...   1.1127      NaN   1.1138   2.3938\n",
              "1  1971-01-05      NaN   7.4872      NaN  ...   1.1132      NaN   1.1143   2.3949\n",
              "2  1971-01-06      NaN   7.4839      NaN  ...   1.1140      NaN   1.1151   2.3967\n",
              "3  1971-01-07      NaN   7.4850      NaN  ...   1.1138      NaN   1.1150   2.3963\n",
              "4  1971-01-08      NaN   7.4850      NaN  ...   1.1124      NaN   1.1154   2.3972\n",
              "\n",
              "[5 rows x 16 columns]"
            ]
          },
          "metadata": {
            "tags": []
          },
          "execution_count": 2
        }
      ]
    },
    {
      "cell_type": "code",
      "metadata": {
        "id": "_MyDELHdWq33",
        "colab_type": "code",
        "colab": {
          "base_uri": "https://localhost:8080/",
          "height": 289
        },
        "outputId": "14daed96-a86f-4b75-dbd5-aec2f9b527e9"
      },
      "source": [
        "auction = pd.read_csv('https://raw.githubusercontent.com/AndrewMarksArt/DS-Unit-1-Sprint-5-Data-Storytelling-Blog-Post/master/Damien_Hirst_Auction_Results.csv')\n",
        "auction.drop(['ID_Batch_Loop#', 'Artist_Name', 'Date_Created', 'Size'], axis=1, inplace=True)\n",
        "auction = auction.rename(columns={'Sale_Date': 'Date'})\n",
        "auction.head()"
      ],
      "execution_count": 3,
      "outputs": [
        {
          "output_type": "execute_result",
          "data": {
            "text/html": [
              "<div>\n",
              "<style scoped>\n",
              "    .dataframe tbody tr th:only-of-type {\n",
              "        vertical-align: middle;\n",
              "    }\n",
              "\n",
              "    .dataframe tbody tr th {\n",
              "        vertical-align: top;\n",
              "    }\n",
              "\n",
              "    .dataframe thead th {\n",
              "        text-align: right;\n",
              "    }\n",
              "</style>\n",
              "<table border=\"1\" class=\"dataframe\">\n",
              "  <thead>\n",
              "    <tr style=\"text-align: right;\">\n",
              "      <th></th>\n",
              "      <th>Title</th>\n",
              "      <th>Medium</th>\n",
              "      <th>Signed_Edition</th>\n",
              "      <th>Estimate_Range</th>\n",
              "      <th>Realized_Price</th>\n",
              "      <th>Sale</th>\n",
              "      <th>Auction_House</th>\n",
              "      <th>Date</th>\n",
              "    </tr>\n",
              "  </thead>\n",
              "  <tbody>\n",
              "    <tr>\n",
              "      <th>0</th>\n",
              "      <td>SPOT DRAWING NO. 2, 1990</td>\n",
              "      <td>coloured pencil on paper</td>\n",
              "      <td>Signed</td>\n",
              "      <td>80,000 - 120,000 GBP</td>\n",
              "      <td>175,000 GBP</td>\n",
              "      <td>Contemporary Art Day Auction</td>\n",
              "      <td>Sotheby's London</td>\n",
              "      <td>Jun. 27, 2018</td>\n",
              "    </tr>\n",
              "    <tr>\n",
              "      <th>1</th>\n",
              "      <td>Supreme Skate Deck Red #7, 1987</td>\n",
              "      <td>Color silkscreen on plywood in original</td>\n",
              "      <td>from an edition of 500</td>\n",
              "      <td>800 - 1,200 USD</td>\n",
              "      <td>450 USD*</td>\n",
              "      <td>Public Art Auction: Modern &amp; Contemporary Art,...</td>\n",
              "      <td>Santa Monica Auctions</td>\n",
              "      <td>Jun. 04, 2017</td>\n",
              "    </tr>\n",
              "    <tr>\n",
              "      <th>2</th>\n",
              "      <td>Supreme Skate Deck Yellow #6, 1987</td>\n",
              "      <td>Color silkscreen on plywood in original bag</td>\n",
              "      <td>from an edition of 500</td>\n",
              "      <td>800 - 1,200 USD</td>\n",
              "      <td>475 USD*</td>\n",
              "      <td>Public Art Auction: Modern &amp; Contemporary Art,...</td>\n",
              "      <td>Santa Monica Auctions</td>\n",
              "      <td>Jun. 04, 2017</td>\n",
              "    </tr>\n",
              "    <tr>\n",
              "      <th>3</th>\n",
              "      <td>Pharmacy, circa1990</td>\n",
              "      <td>offset lithograph printed in colours</td>\n",
              "      <td>42/200</td>\n",
              "      <td>1,500 - 2,000 GBP</td>\n",
              "      <td>1,500 GBP</td>\n",
              "      <td>Mixed Media: 20th Century Art</td>\n",
              "      <td>Dreweatts &amp; Bloomsbury Auctions, Bloomsbury House</td>\n",
              "      <td>Jul. 16, 2015</td>\n",
              "    </tr>\n",
              "    <tr>\n",
              "      <th>4</th>\n",
              "      <td>The Complete Spot Paintings, 1986-2011</td>\n",
              "      <td>with butterfly and heart drawing on the slipca...</td>\n",
              "      <td>Signed</td>\n",
              "      <td>1,000 - 1,500 GBP</td>\n",
              "      <td>2,375 GBP</td>\n",
              "      <td>Prints &amp; Multiples</td>\n",
              "      <td>Bonhams Knightsbridge</td>\n",
              "      <td>Jun. 03, 2015</td>\n",
              "    </tr>\n",
              "  </tbody>\n",
              "</table>\n",
              "</div>"
            ],
            "text/plain": [
              "                                    Title  ...           Date\n",
              "0                SPOT DRAWING NO. 2, 1990  ...  Jun. 27, 2018\n",
              "1         Supreme Skate Deck Red #7, 1987  ...  Jun. 04, 2017\n",
              "2      Supreme Skate Deck Yellow #6, 1987  ...  Jun. 04, 2017\n",
              "3                     Pharmacy, circa1990  ...  Jul. 16, 2015\n",
              "4  The Complete Spot Paintings, 1986-2011  ...  Jun. 03, 2015\n",
              "\n",
              "[5 rows x 8 columns]"
            ]
          },
          "metadata": {
            "tags": []
          },
          "execution_count": 3
        }
      ]
    },
    {
      "cell_type": "code",
      "metadata": {
        "id": "fO0-SLUoZeKs",
        "colab_type": "code",
        "colab": {}
      },
      "source": [
        "def clean_estimate(estimate):\n",
        "  \"\"\"\n",
        "  takes the estimate column, adds low estimate, high estimate, and currency\n",
        "  columns to the dataframe and drops the original estimate column.\n",
        "  :param: estimate = list (df column)\n",
        "  returns: none, adds the columns and drop the column when called\n",
        "  \"\"\"\n",
        "  low = []\n",
        "  high = []\n",
        "  currency = []\n",
        "\n",
        "  for i in range(len(estimate)):\n",
        "    est = estimate[i]\n",
        "    try:\n",
        "      temp = est.split()\n",
        "      if len(temp) == 4:\n",
        "        low.append(temp[0])\n",
        "        high.append(temp[2])\n",
        "        currency.append(temp[3])\n",
        "      elif len(temp) == 2:\n",
        "        low.append(temp[0])\n",
        "        high.append(np.nan)\n",
        "        currency.append(temp[1])\n",
        "      else:\n",
        "        low.append(np.nan)\n",
        "        high.append(np.nan)\n",
        "        currency.append(np.nan)\n",
        "    except:\n",
        "      pass\n",
        "    \n",
        "  auction['Low Estimate'] = low\n",
        "  auction['High Estimate'] = high\n",
        "  auction['Currency'] = currency\n",
        "  auction.drop(['Estimate_Range'], axis=1, inplace=True)\n",
        "  return"
      ],
      "execution_count": 0,
      "outputs": []
    },
    {
      "cell_type": "code",
      "metadata": {
        "id": "ypqiTUMrZtkt",
        "colab_type": "code",
        "colab": {}
      },
      "source": [
        "def clean_realized_price(prices):\n",
        "  \"\"\"\n",
        "  takes realized prices from df and removes currency leaving just the numeric value\n",
        "  :param: prices = list, df column realized_price\n",
        "  return: list\n",
        "  \"\"\"\n",
        "  for i in range(len(prices)):\n",
        "    try:\n",
        "      temp = prices[i].split()\n",
        "      if len(temp) < 2:\n",
        "        prices[i] = -1\n",
        "      else:\n",
        "        prices[i] = temp[0]\n",
        "    except:\n",
        "      pass\n",
        "  \n",
        "  return prices"
      ],
      "execution_count": 0,
      "outputs": []
    },
    {
      "cell_type": "code",
      "metadata": {
        "id": "GGEFxeZYZaml",
        "colab_type": "code",
        "colab": {}
      },
      "source": [
        "clean_estimate(auction['Estimate_Range'])\n",
        "auction['Realized_Price'] = clean_realized_price(auction['Realized_Price'])"
      ],
      "execution_count": 0,
      "outputs": []
    },
    {
      "cell_type": "code",
      "metadata": {
        "id": "bDAUDIxaZ3VV",
        "colab_type": "code",
        "colab": {}
      },
      "source": [
        "for i in range(len(auction['Currency'])):\n",
        "  try:\n",
        "    if '*' in auction['Currency'][i]:\n",
        "      auction['Currency'][i] = 'EUR'\n",
        "    if 'Sold' in auction['Currency'][i]:\n",
        "      auction['Currency'][i] = np.nan\n",
        "  except:\n",
        "    pass"
      ],
      "execution_count": 0,
      "outputs": []
    },
    {
      "cell_type": "code",
      "metadata": {
        "id": "RbnV5c4vZ5vt",
        "colab_type": "code",
        "colab": {}
      },
      "source": [
        "auction['Currency'].fillna('USD', inplace=True)"
      ],
      "execution_count": 0,
      "outputs": []
    },
    {
      "cell_type": "code",
      "metadata": {
        "id": "oOKZR_JuaDM9",
        "colab_type": "code",
        "colab": {}
      },
      "source": [
        "country_dict = {'GBP': 'United Kingdom', 'USD': 'United States', 'EUR': 'Europe', 'HKD': 'Hong Kong', 'CNY': 'China', 'CHF': 'Switzerland',\n",
        "             'SEK': 'Sweden', 'JPY': 'Japan', 'KRW': 'South Korea', 'AUD': 'Australia', 'NOK': 'Norway', 'ZAR': 'South Africa', 'DKK': 'Denmark', 'NZD': 'New Zealand', \n",
        "               'TWD': 'Taiwan', 'SGD': 'Singapore', 'MXN': 'Mexico', 'CZK': 'Czech Republic'}"
      ],
      "execution_count": 0,
      "outputs": []
    },
    {
      "cell_type": "code",
      "metadata": {
        "id": "vkTFGgQTaFW0",
        "colab_type": "code",
        "colab": {}
      },
      "source": [
        "country = []\n",
        "currency = auction['Currency']\n",
        "\n",
        "for i in range(len(currency)):\n",
        "  try:\n",
        "    country.append(country_dict.get(currency[i]))\n",
        "  except:\n",
        "    pass\n",
        "    \n",
        "auction['Country'] = country"
      ],
      "execution_count": 0,
      "outputs": []
    },
    {
      "cell_type": "code",
      "metadata": {
        "id": "4oDwJo4BaJs0",
        "colab_type": "code",
        "colab": {}
      },
      "source": [
        "sale = auction['Date']\n",
        "for i in range(len(sale)):\n",
        "  try:\n",
        "    if 'no' in sale[i]:\n",
        "      sale[i] = np.nan\n",
        "  except:\n",
        "    pass"
      ],
      "execution_count": 0,
      "outputs": []
    },
    {
      "cell_type": "code",
      "metadata": {
        "id": "3jL4Om1_aLwM",
        "colab_type": "code",
        "colab": {}
      },
      "source": [
        "auction['Date'] = pd.to_datetime(auction['Date'])"
      ],
      "execution_count": 0,
      "outputs": []
    },
    {
      "cell_type": "code",
      "metadata": {
        "id": "lGiXqIp3aWFD",
        "colab_type": "code",
        "colab": {
          "base_uri": "https://localhost:8080/",
          "height": 306
        },
        "outputId": "2604f554-bbf5-4961-e401-d590bdcfbdd4"
      },
      "source": [
        "auction.head()"
      ],
      "execution_count": 13,
      "outputs": [
        {
          "output_type": "execute_result",
          "data": {
            "text/html": [
              "<div>\n",
              "<style scoped>\n",
              "    .dataframe tbody tr th:only-of-type {\n",
              "        vertical-align: middle;\n",
              "    }\n",
              "\n",
              "    .dataframe tbody tr th {\n",
              "        vertical-align: top;\n",
              "    }\n",
              "\n",
              "    .dataframe thead th {\n",
              "        text-align: right;\n",
              "    }\n",
              "</style>\n",
              "<table border=\"1\" class=\"dataframe\">\n",
              "  <thead>\n",
              "    <tr style=\"text-align: right;\">\n",
              "      <th></th>\n",
              "      <th>Title</th>\n",
              "      <th>Medium</th>\n",
              "      <th>Signed_Edition</th>\n",
              "      <th>Realized_Price</th>\n",
              "      <th>Sale</th>\n",
              "      <th>Auction_House</th>\n",
              "      <th>Date</th>\n",
              "      <th>Low Estimate</th>\n",
              "      <th>High Estimate</th>\n",
              "      <th>Currency</th>\n",
              "      <th>Country</th>\n",
              "    </tr>\n",
              "  </thead>\n",
              "  <tbody>\n",
              "    <tr>\n",
              "      <th>0</th>\n",
              "      <td>SPOT DRAWING NO. 2, 1990</td>\n",
              "      <td>coloured pencil on paper</td>\n",
              "      <td>Signed</td>\n",
              "      <td>175,000</td>\n",
              "      <td>Contemporary Art Day Auction</td>\n",
              "      <td>Sotheby's London</td>\n",
              "      <td>2018-06-27</td>\n",
              "      <td>80,000</td>\n",
              "      <td>120,000</td>\n",
              "      <td>GBP</td>\n",
              "      <td>United Kingdom</td>\n",
              "    </tr>\n",
              "    <tr>\n",
              "      <th>1</th>\n",
              "      <td>Supreme Skate Deck Red #7, 1987</td>\n",
              "      <td>Color silkscreen on plywood in original</td>\n",
              "      <td>from an edition of 500</td>\n",
              "      <td>450</td>\n",
              "      <td>Public Art Auction: Modern &amp; Contemporary Art,...</td>\n",
              "      <td>Santa Monica Auctions</td>\n",
              "      <td>2017-06-04</td>\n",
              "      <td>800</td>\n",
              "      <td>1,200</td>\n",
              "      <td>USD</td>\n",
              "      <td>United States</td>\n",
              "    </tr>\n",
              "    <tr>\n",
              "      <th>2</th>\n",
              "      <td>Supreme Skate Deck Yellow #6, 1987</td>\n",
              "      <td>Color silkscreen on plywood in original bag</td>\n",
              "      <td>from an edition of 500</td>\n",
              "      <td>475</td>\n",
              "      <td>Public Art Auction: Modern &amp; Contemporary Art,...</td>\n",
              "      <td>Santa Monica Auctions</td>\n",
              "      <td>2017-06-04</td>\n",
              "      <td>800</td>\n",
              "      <td>1,200</td>\n",
              "      <td>USD</td>\n",
              "      <td>United States</td>\n",
              "    </tr>\n",
              "    <tr>\n",
              "      <th>3</th>\n",
              "      <td>Pharmacy, circa1990</td>\n",
              "      <td>offset lithograph printed in colours</td>\n",
              "      <td>42/200</td>\n",
              "      <td>1,500</td>\n",
              "      <td>Mixed Media: 20th Century Art</td>\n",
              "      <td>Dreweatts &amp; Bloomsbury Auctions, Bloomsbury House</td>\n",
              "      <td>2015-07-16</td>\n",
              "      <td>1,500</td>\n",
              "      <td>2,000</td>\n",
              "      <td>GBP</td>\n",
              "      <td>United Kingdom</td>\n",
              "    </tr>\n",
              "    <tr>\n",
              "      <th>4</th>\n",
              "      <td>The Complete Spot Paintings, 1986-2011</td>\n",
              "      <td>with butterfly and heart drawing on the slipca...</td>\n",
              "      <td>Signed</td>\n",
              "      <td>2,375</td>\n",
              "      <td>Prints &amp; Multiples</td>\n",
              "      <td>Bonhams Knightsbridge</td>\n",
              "      <td>2015-06-03</td>\n",
              "      <td>1,000</td>\n",
              "      <td>1,500</td>\n",
              "      <td>GBP</td>\n",
              "      <td>United Kingdom</td>\n",
              "    </tr>\n",
              "  </tbody>\n",
              "</table>\n",
              "</div>"
            ],
            "text/plain": [
              "                                    Title  ...         Country\n",
              "0                SPOT DRAWING NO. 2, 1990  ...  United Kingdom\n",
              "1         Supreme Skate Deck Red #7, 1987  ...   United States\n",
              "2      Supreme Skate Deck Yellow #6, 1987  ...   United States\n",
              "3                     Pharmacy, circa1990  ...  United Kingdom\n",
              "4  The Complete Spot Paintings, 1986-2011  ...  United Kingdom\n",
              "\n",
              "[5 rows x 11 columns]"
            ]
          },
          "metadata": {
            "tags": []
          },
          "execution_count": 13
        }
      ]
    },
    {
      "cell_type": "code",
      "metadata": {
        "id": "ksOcyp8udKFz",
        "colab_type": "code",
        "colab": {
          "base_uri": "https://localhost:8080/",
          "height": 204
        },
        "outputId": "abb56083-a815-4c69-8e50-3df5339dd719"
      },
      "source": [
        "auction_location = auction[['Date', 'Country']]\n",
        "auction_location.head()"
      ],
      "execution_count": 14,
      "outputs": [
        {
          "output_type": "execute_result",
          "data": {
            "text/html": [
              "<div>\n",
              "<style scoped>\n",
              "    .dataframe tbody tr th:only-of-type {\n",
              "        vertical-align: middle;\n",
              "    }\n",
              "\n",
              "    .dataframe tbody tr th {\n",
              "        vertical-align: top;\n",
              "    }\n",
              "\n",
              "    .dataframe thead th {\n",
              "        text-align: right;\n",
              "    }\n",
              "</style>\n",
              "<table border=\"1\" class=\"dataframe\">\n",
              "  <thead>\n",
              "    <tr style=\"text-align: right;\">\n",
              "      <th></th>\n",
              "      <th>Date</th>\n",
              "      <th>Country</th>\n",
              "    </tr>\n",
              "  </thead>\n",
              "  <tbody>\n",
              "    <tr>\n",
              "      <th>0</th>\n",
              "      <td>2018-06-27</td>\n",
              "      <td>United Kingdom</td>\n",
              "    </tr>\n",
              "    <tr>\n",
              "      <th>1</th>\n",
              "      <td>2017-06-04</td>\n",
              "      <td>United States</td>\n",
              "    </tr>\n",
              "    <tr>\n",
              "      <th>2</th>\n",
              "      <td>2017-06-04</td>\n",
              "      <td>United States</td>\n",
              "    </tr>\n",
              "    <tr>\n",
              "      <th>3</th>\n",
              "      <td>2015-07-16</td>\n",
              "      <td>United Kingdom</td>\n",
              "    </tr>\n",
              "    <tr>\n",
              "      <th>4</th>\n",
              "      <td>2015-06-03</td>\n",
              "      <td>United Kingdom</td>\n",
              "    </tr>\n",
              "  </tbody>\n",
              "</table>\n",
              "</div>"
            ],
            "text/plain": [
              "        Date         Country\n",
              "0 2018-06-27  United Kingdom\n",
              "1 2017-06-04   United States\n",
              "2 2017-06-04   United States\n",
              "3 2015-07-16  United Kingdom\n",
              "4 2015-06-03  United Kingdom"
            ]
          },
          "metadata": {
            "tags": []
          },
          "execution_count": 14
        }
      ]
    },
    {
      "cell_type": "code",
      "metadata": {
        "id": "wHefDcMaJJeS",
        "colab_type": "code",
        "colab": {
          "base_uri": "https://localhost:8080/",
          "height": 119
        },
        "outputId": "edcf0d52-8306-429d-aeb6-d0584eaa1b50"
      },
      "source": [
        "china = fx[['DATE', 'DEXCHUS']]\n",
        "china['Country'] = 'China'\n",
        "china = china.rename(columns={'DATE': 'Date', 'DEXCHUS': 'Value'})\n",
        "china = china[['Date', 'Country', 'Value']]"
      ],
      "execution_count": 15,
      "outputs": [
        {
          "output_type": "stream",
          "text": [
            "/usr/local/lib/python3.6/dist-packages/ipykernel_launcher.py:2: SettingWithCopyWarning: \n",
            "A value is trying to be set on a copy of a slice from a DataFrame.\n",
            "Try using .loc[row_indexer,col_indexer] = value instead\n",
            "\n",
            "See the caveats in the documentation: http://pandas.pydata.org/pandas-docs/stable/indexing.html#indexing-view-versus-copy\n",
            "  \n"
          ],
          "name": "stderr"
        }
      ]
    },
    {
      "cell_type": "code",
      "metadata": {
        "id": "-81RRRzXJTMW",
        "colab_type": "code",
        "colab": {
          "base_uri": "https://localhost:8080/",
          "height": 119
        },
        "outputId": "361ace5f-a6dc-46b2-b11a-f1a048d7cd08"
      },
      "source": [
        "denmark = fx[['DATE', 'DEXDNUS']]\n",
        "denmark['Country'] = 'Denmark'\n",
        "denmark = denmark.rename(columns={'DATE': 'Date', 'DEXDNUS': 'Value'})\n",
        "denmark = denmark[['Date', 'Country', 'Value']]"
      ],
      "execution_count": 16,
      "outputs": [
        {
          "output_type": "stream",
          "text": [
            "/usr/local/lib/python3.6/dist-packages/ipykernel_launcher.py:2: SettingWithCopyWarning: \n",
            "A value is trying to be set on a copy of a slice from a DataFrame.\n",
            "Try using .loc[row_indexer,col_indexer] = value instead\n",
            "\n",
            "See the caveats in the documentation: http://pandas.pydata.org/pandas-docs/stable/indexing.html#indexing-view-versus-copy\n",
            "  \n"
          ],
          "name": "stderr"
        }
      ]
    },
    {
      "cell_type": "code",
      "metadata": {
        "id": "cWoUwlltJilP",
        "colab_type": "code",
        "colab": {
          "base_uri": "https://localhost:8080/",
          "height": 119
        },
        "outputId": "8fdcfd4d-a0b4-4bab-fb55-b9beb95c612b"
      },
      "source": [
        "hong_kong = fx[['DATE', 'DEXHKUS']]\n",
        "hong_kong['Country'] = 'Hong Kong'\n",
        "hong_kong = hong_kong.rename(columns={'DATE': 'Date', 'DEXHKUS': 'Value'})\n",
        "hong_kong = hong_kong[['Date', 'Country', 'Value']]"
      ],
      "execution_count": 17,
      "outputs": [
        {
          "output_type": "stream",
          "text": [
            "/usr/local/lib/python3.6/dist-packages/ipykernel_launcher.py:2: SettingWithCopyWarning: \n",
            "A value is trying to be set on a copy of a slice from a DataFrame.\n",
            "Try using .loc[row_indexer,col_indexer] = value instead\n",
            "\n",
            "See the caveats in the documentation: http://pandas.pydata.org/pandas-docs/stable/indexing.html#indexing-view-versus-copy\n",
            "  \n"
          ],
          "name": "stderr"
        }
      ]
    },
    {
      "cell_type": "code",
      "metadata": {
        "id": "f0lCbwFnJ5_A",
        "colab_type": "code",
        "colab": {
          "base_uri": "https://localhost:8080/",
          "height": 119
        },
        "outputId": "f49e1927-ba5f-4cf5-dee7-1b4697cdd84c"
      },
      "source": [
        "japan = fx[['DATE', 'DEXJPUS']]\n",
        "japan['Country'] = 'Japan'\n",
        "japan = japan.rename(columns={'DATE': 'Date', 'DEXJPUS': 'Value'})\n",
        "japan = japan[['Date', 'Country', 'Value']]"
      ],
      "execution_count": 18,
      "outputs": [
        {
          "output_type": "stream",
          "text": [
            "/usr/local/lib/python3.6/dist-packages/ipykernel_launcher.py:2: SettingWithCopyWarning: \n",
            "A value is trying to be set on a copy of a slice from a DataFrame.\n",
            "Try using .loc[row_indexer,col_indexer] = value instead\n",
            "\n",
            "See the caveats in the documentation: http://pandas.pydata.org/pandas-docs/stable/indexing.html#indexing-view-versus-copy\n",
            "  \n"
          ],
          "name": "stderr"
        }
      ]
    },
    {
      "cell_type": "code",
      "metadata": {
        "id": "q-8fdjuuKMKW",
        "colab_type": "code",
        "colab": {
          "base_uri": "https://localhost:8080/",
          "height": 119
        },
        "outputId": "a0fa12b2-361f-4409-db0a-22d7501b91a6"
      },
      "source": [
        "south_korea = fx[['DATE', 'DEXKOUS']]\n",
        "south_korea['Country'] = 'South Korea'\n",
        "south_korea = south_korea.rename(columns={'DATE': 'Date', 'DEXKOUS': 'Value'})\n",
        "south_korea = south_korea[['Date', 'Country', 'Value']]"
      ],
      "execution_count": 19,
      "outputs": [
        {
          "output_type": "stream",
          "text": [
            "/usr/local/lib/python3.6/dist-packages/ipykernel_launcher.py:2: SettingWithCopyWarning: \n",
            "A value is trying to be set on a copy of a slice from a DataFrame.\n",
            "Try using .loc[row_indexer,col_indexer] = value instead\n",
            "\n",
            "See the caveats in the documentation: http://pandas.pydata.org/pandas-docs/stable/indexing.html#indexing-view-versus-copy\n",
            "  \n"
          ],
          "name": "stderr"
        }
      ]
    },
    {
      "cell_type": "code",
      "metadata": {
        "id": "aoZhRb7NKaK-",
        "colab_type": "code",
        "colab": {
          "base_uri": "https://localhost:8080/",
          "height": 119
        },
        "outputId": "e075f774-6e17-4661-874e-ac37e73aa068"
      },
      "source": [
        "mexico = fx[['DATE', 'DEXMXUS']]\n",
        "mexico['Country'] = 'Mexico'\n",
        "mexico = mexico.rename(columns={'DATE': 'Date', 'DEXMXUS': 'Value'})\n",
        "mexico = mexico[['Date', 'Country', 'Value']]"
      ],
      "execution_count": 20,
      "outputs": [
        {
          "output_type": "stream",
          "text": [
            "/usr/local/lib/python3.6/dist-packages/ipykernel_launcher.py:2: SettingWithCopyWarning: \n",
            "A value is trying to be set on a copy of a slice from a DataFrame.\n",
            "Try using .loc[row_indexer,col_indexer] = value instead\n",
            "\n",
            "See the caveats in the documentation: http://pandas.pydata.org/pandas-docs/stable/indexing.html#indexing-view-versus-copy\n",
            "  \n"
          ],
          "name": "stderr"
        }
      ]
    },
    {
      "cell_type": "code",
      "metadata": {
        "id": "OxxvMtxMKlBV",
        "colab_type": "code",
        "colab": {
          "base_uri": "https://localhost:8080/",
          "height": 119
        },
        "outputId": "17fe34cf-273f-4a32-ab51-31c077ed0206"
      },
      "source": [
        "norway = fx[['DATE', 'DEXNOUS']]\n",
        "norway['Country'] = 'Norway'\n",
        "norway = norway.rename(columns={'DATE': 'Date', 'DEXNOUS': 'Value'})\n",
        "norway = norway[['Date', 'Country', 'Value']]"
      ],
      "execution_count": 21,
      "outputs": [
        {
          "output_type": "stream",
          "text": [
            "/usr/local/lib/python3.6/dist-packages/ipykernel_launcher.py:2: SettingWithCopyWarning: \n",
            "A value is trying to be set on a copy of a slice from a DataFrame.\n",
            "Try using .loc[row_indexer,col_indexer] = value instead\n",
            "\n",
            "See the caveats in the documentation: http://pandas.pydata.org/pandas-docs/stable/indexing.html#indexing-view-versus-copy\n",
            "  \n"
          ],
          "name": "stderr"
        }
      ]
    },
    {
      "cell_type": "code",
      "metadata": {
        "id": "CYcmeB6IK1R-",
        "colab_type": "code",
        "colab": {
          "base_uri": "https://localhost:8080/",
          "height": 119
        },
        "outputId": "5a8f6fd9-6889-4cc7-f281-4ad9aac0ba92"
      },
      "source": [
        "sweden = fx[['DATE', 'DEXSDUS']]\n",
        "sweden['Country'] = 'Sweden'\n",
        "sweden = sweden.rename(columns={'DATE': 'Date', 'DEXSDUS': 'Value'})\n",
        "sweden = sweden[['Date', 'Country', 'Value']]"
      ],
      "execution_count": 22,
      "outputs": [
        {
          "output_type": "stream",
          "text": [
            "/usr/local/lib/python3.6/dist-packages/ipykernel_launcher.py:2: SettingWithCopyWarning: \n",
            "A value is trying to be set on a copy of a slice from a DataFrame.\n",
            "Try using .loc[row_indexer,col_indexer] = value instead\n",
            "\n",
            "See the caveats in the documentation: http://pandas.pydata.org/pandas-docs/stable/indexing.html#indexing-view-versus-copy\n",
            "  \n"
          ],
          "name": "stderr"
        }
      ]
    },
    {
      "cell_type": "code",
      "metadata": {
        "id": "TB1191akLMC1",
        "colab_type": "code",
        "colab": {
          "base_uri": "https://localhost:8080/",
          "height": 119
        },
        "outputId": "aa57059d-828f-419c-9cda-c4411fe6e8e3"
      },
      "source": [
        "singapore = fx[['DATE', 'DEXSIUS']]\n",
        "singapore['Country'] = 'Singapore'\n",
        "singapore = singapore.rename(columns={'DATE': 'Date', 'DEXSIUS': 'Value'})\n",
        "singapore = singapore[['Date', 'Country', 'Value']]"
      ],
      "execution_count": 23,
      "outputs": [
        {
          "output_type": "stream",
          "text": [
            "/usr/local/lib/python3.6/dist-packages/ipykernel_launcher.py:2: SettingWithCopyWarning: \n",
            "A value is trying to be set on a copy of a slice from a DataFrame.\n",
            "Try using .loc[row_indexer,col_indexer] = value instead\n",
            "\n",
            "See the caveats in the documentation: http://pandas.pydata.org/pandas-docs/stable/indexing.html#indexing-view-versus-copy\n",
            "  \n"
          ],
          "name": "stderr"
        }
      ]
    },
    {
      "cell_type": "code",
      "metadata": {
        "id": "655o1Ng-LWE9",
        "colab_type": "code",
        "colab": {
          "base_uri": "https://localhost:8080/",
          "height": 119
        },
        "outputId": "dc63aa81-88c9-4bbc-e06d-e1d0f2a0155e"
      },
      "source": [
        "switzerland = fx[['DATE', 'DEXSZUS']]\n",
        "switzerland['Country'] = 'Switzerland'\n",
        "switzerland = switzerland.rename(columns={'DATE': 'Date', 'DEXSZUS': 'Value'})\n",
        "switzerland = switzerland[['Date', 'Country', 'Value']]"
      ],
      "execution_count": 24,
      "outputs": [
        {
          "output_type": "stream",
          "text": [
            "/usr/local/lib/python3.6/dist-packages/ipykernel_launcher.py:2: SettingWithCopyWarning: \n",
            "A value is trying to be set on a copy of a slice from a DataFrame.\n",
            "Try using .loc[row_indexer,col_indexer] = value instead\n",
            "\n",
            "See the caveats in the documentation: http://pandas.pydata.org/pandas-docs/stable/indexing.html#indexing-view-versus-copy\n",
            "  \n"
          ],
          "name": "stderr"
        }
      ]
    },
    {
      "cell_type": "code",
      "metadata": {
        "id": "6ye4tZnJLoj9",
        "colab_type": "code",
        "colab": {
          "base_uri": "https://localhost:8080/",
          "height": 119
        },
        "outputId": "50f17d32-6eee-41ed-e637-bd29361ae59e"
      },
      "source": [
        "taiwan = fx[['DATE', 'DEXTAUS']]\n",
        "taiwan['Country'] = 'Taiwan'\n",
        "taiwan = taiwan.rename(columns={'DATE': 'Date', 'DEXTAUS': 'Value'})\n",
        "taiwan = taiwan[['Date', 'Country', 'Value']]"
      ],
      "execution_count": 25,
      "outputs": [
        {
          "output_type": "stream",
          "text": [
            "/usr/local/lib/python3.6/dist-packages/ipykernel_launcher.py:2: SettingWithCopyWarning: \n",
            "A value is trying to be set on a copy of a slice from a DataFrame.\n",
            "Try using .loc[row_indexer,col_indexer] = value instead\n",
            "\n",
            "See the caveats in the documentation: http://pandas.pydata.org/pandas-docs/stable/indexing.html#indexing-view-versus-copy\n",
            "  \n"
          ],
          "name": "stderr"
        }
      ]
    },
    {
      "cell_type": "code",
      "metadata": {
        "id": "7IJmKR69L1Qs",
        "colab_type": "code",
        "colab": {}
      },
      "source": [
        "australia = fx[['DATE', 'DEXUSAL']]\n",
        "australia['Country'] = 'Australia'\n",
        "australia = australia.rename(columns={'DATE': 'Date', 'DEXUSAL': 'Value'})\n",
        "australia['Value'] = australia['Value'].apply(lambda x: 1/x)\n",
        "australia = australia[['Date', 'Country', 'Value']]"
      ],
      "execution_count": 0,
      "outputs": []
    },
    {
      "cell_type": "code",
      "metadata": {
        "id": "tI6lsec8MDHt",
        "colab_type": "code",
        "colab": {}
      },
      "source": [
        "europe = fx[['DATE', 'DEXUSEU']]\n",
        "europe['Country'] = 'Europe'\n",
        "europe = europe.rename(columns={'DATE': 'Date', 'DEXUSEU': 'Value'})\n",
        "europe['Value'] = europe['Value'].apply(lambda x: 1/x)\n",
        "europe = europe[['Date', 'Country', 'Value']]"
      ],
      "execution_count": 0,
      "outputs": []
    },
    {
      "cell_type": "code",
      "metadata": {
        "id": "HLsDqhewMRfM",
        "colab_type": "code",
        "colab": {}
      },
      "source": [
        "new_zealand = fx[['DATE', 'DEXUSNZ']]\n",
        "new_zealand['Country'] = 'New Zealand'\n",
        "new_zealand = new_zealand.rename(columns={'DATE': 'Date', 'DEXUSNZ': 'Value'})\n",
        "new_zealand['Value'] = new_zealand['Value'].apply(lambda x: 1/x)\n",
        "new_zealand = new_zealand[['Date', 'Country', 'Value']]"
      ],
      "execution_count": 0,
      "outputs": []
    },
    {
      "cell_type": "code",
      "metadata": {
        "id": "3uTYna6rMg50",
        "colab_type": "code",
        "colab": {}
      },
      "source": [
        "united_kingdom = fx[['DATE', 'DEXUSUK']]\n",
        "united_kingdom['Country'] = 'United Kingdom'\n",
        "united_kingdom = united_kingdom.rename(columns={'DATE': 'Date', 'DEXUSUK': 'Value'})\n",
        "united_kingdom['Value'] = united_kingdom['Value'].apply(lambda x: 1/x)\n",
        "united_kingdom = united_kingdom[['Date', 'Country', 'Value']]"
      ],
      "execution_count": 0,
      "outputs": []
    },
    {
      "cell_type": "code",
      "metadata": {
        "id": "3HlcoG1_Mruc",
        "colab_type": "code",
        "outputId": "a9766a46-ce51-48ae-ed66-f7f36c7520d0",
        "colab": {
          "base_uri": "https://localhost:8080/",
          "height": 34
        }
      },
      "source": [
        "results = pd.concat([china, denmark, hong_kong, japan, south_korea, mexico,\n",
        "                     norway, sweden, singapore, switzerland, taiwan, australia,\n",
        "                     europe, new_zealand, united_kingdom])\n",
        "results.shape"
      ],
      "execution_count": 44,
      "outputs": [
        {
          "output_type": "execute_result",
          "data": {
            "text/plain": [
              "(189675, 3)"
            ]
          },
          "metadata": {
            "tags": []
          },
          "execution_count": 44
        }
      ]
    },
    {
      "cell_type": "code",
      "metadata": {
        "id": "gltepjFJgQ_v",
        "colab_type": "code",
        "colab": {}
      },
      "source": [
        "results['Date'] = pd.to_datetime(results['Date'])"
      ],
      "execution_count": 0,
      "outputs": []
    },
    {
      "cell_type": "code",
      "metadata": {
        "id": "FeoYqWTUgcgv",
        "colab_type": "code",
        "colab": {
          "base_uri": "https://localhost:8080/",
          "height": 85
        },
        "outputId": "112ecd5f-abbf-4692-88fc-c3cf71c054fa"
      },
      "source": [
        "results.dtypes"
      ],
      "execution_count": 46,
      "outputs": [
        {
          "output_type": "execute_result",
          "data": {
            "text/plain": [
              "Date       datetime64[ns]\n",
              "Country            object\n",
              "Value             float64\n",
              "dtype: object"
            ]
          },
          "metadata": {
            "tags": []
          },
          "execution_count": 46
        }
      ]
    },
    {
      "cell_type": "code",
      "metadata": {
        "id": "ybHP-3kaf-Vq",
        "colab_type": "code",
        "colab": {
          "base_uri": "https://localhost:8080/",
          "height": 204
        },
        "outputId": "92acf3f3-d5ed-4508-c2e7-253a5999b13b"
      },
      "source": [
        "merged = pd.merge(auction_location,\n",
        "                  results,\n",
        "                  on=['Date', 'Country'],\n",
        "                  how='left')\n",
        "merged.head()"
      ],
      "execution_count": 47,
      "outputs": [
        {
          "output_type": "execute_result",
          "data": {
            "text/html": [
              "<div>\n",
              "<style scoped>\n",
              "    .dataframe tbody tr th:only-of-type {\n",
              "        vertical-align: middle;\n",
              "    }\n",
              "\n",
              "    .dataframe tbody tr th {\n",
              "        vertical-align: top;\n",
              "    }\n",
              "\n",
              "    .dataframe thead th {\n",
              "        text-align: right;\n",
              "    }\n",
              "</style>\n",
              "<table border=\"1\" class=\"dataframe\">\n",
              "  <thead>\n",
              "    <tr style=\"text-align: right;\">\n",
              "      <th></th>\n",
              "      <th>Date</th>\n",
              "      <th>Country</th>\n",
              "      <th>Value</th>\n",
              "    </tr>\n",
              "  </thead>\n",
              "  <tbody>\n",
              "    <tr>\n",
              "      <th>0</th>\n",
              "      <td>2018-06-27</td>\n",
              "      <td>United Kingdom</td>\n",
              "      <td>0.761093</td>\n",
              "    </tr>\n",
              "    <tr>\n",
              "      <th>1</th>\n",
              "      <td>2017-06-04</td>\n",
              "      <td>United States</td>\n",
              "      <td>NaN</td>\n",
              "    </tr>\n",
              "    <tr>\n",
              "      <th>2</th>\n",
              "      <td>2017-06-04</td>\n",
              "      <td>United States</td>\n",
              "      <td>NaN</td>\n",
              "    </tr>\n",
              "    <tr>\n",
              "      <th>3</th>\n",
              "      <td>2015-07-16</td>\n",
              "      <td>United Kingdom</td>\n",
              "      <td>0.640985</td>\n",
              "    </tr>\n",
              "    <tr>\n",
              "      <th>4</th>\n",
              "      <td>2015-06-03</td>\n",
              "      <td>United Kingdom</td>\n",
              "      <td>0.651423</td>\n",
              "    </tr>\n",
              "  </tbody>\n",
              "</table>\n",
              "</div>"
            ],
            "text/plain": [
              "        Date         Country     Value\n",
              "0 2018-06-27  United Kingdom  0.761093\n",
              "1 2017-06-04   United States       NaN\n",
              "2 2017-06-04   United States       NaN\n",
              "3 2015-07-16  United Kingdom  0.640985\n",
              "4 2015-06-03  United Kingdom  0.651423"
            ]
          },
          "metadata": {
            "tags": []
          },
          "execution_count": 47
        }
      ]
    },
    {
      "cell_type": "code",
      "metadata": {
        "id": "RxiSbfSRn4Cx",
        "colab_type": "code",
        "colab": {
          "base_uri": "https://localhost:8080/",
          "height": 34
        },
        "outputId": "41204870-1985-45f6-e87d-f9b8480a849e"
      },
      "source": [
        "merged.shape"
      ],
      "execution_count": 48,
      "outputs": [
        {
          "output_type": "execute_result",
          "data": {
            "text/plain": [
              "(6541, 3)"
            ]
          },
          "metadata": {
            "tags": []
          },
          "execution_count": 48
        }
      ]
    },
    {
      "cell_type": "code",
      "metadata": {
        "id": "B7ty0g3ikF0-",
        "colab_type": "code",
        "colab": {
          "base_uri": "https://localhost:8080/",
          "height": 85
        },
        "outputId": "83bd0fd4-9c69-438b-9fcd-246aae20cd7d"
      },
      "source": [
        "countries = merged['Country'].unique()\n",
        "countries"
      ],
      "execution_count": 49,
      "outputs": [
        {
          "output_type": "execute_result",
          "data": {
            "text/plain": [
              "array(['United Kingdom', 'United States', 'Europe', 'Hong Kong', 'China',\n",
              "       'Switzerland', 'Sweden', 'Japan', 'South Korea', 'Australia',\n",
              "       'Norway', 'South Africa', 'Denmark', 'New Zealand', 'Taiwan',\n",
              "       'Singapore', 'Mexico', 'Czech Republic'], dtype=object)"
            ]
          },
          "metadata": {
            "tags": []
          },
          "execution_count": 49
        }
      ]
    },
    {
      "cell_type": "code",
      "metadata": {
        "id": "BJbU2W-0l9ZD",
        "colab_type": "code",
        "colab": {}
      },
      "source": [
        "df = pd.DataFrame()\n",
        "count = 0\n",
        "\n",
        "for i in range(len(countries)):\n",
        "  country = countries[i]\n",
        "  temp = merged[merged['Country'] == country]\n",
        "  \n",
        "  if country == 'United States':\n",
        "    temp['Value'] = 1\n",
        "  \n",
        "  temp = temp.dropna(subset=['Date'])\n",
        "  temp = temp.fillna(method='ffill')\n",
        "  \n",
        "  if count == 0:\n",
        "    df = temp\n",
        "    count += 1\n",
        "  else:\n",
        "    df = pd.concat([df, temp])\n",
        "  "
      ],
      "execution_count": 0,
      "outputs": []
    },
    {
      "cell_type": "code",
      "metadata": {
        "id": "56Ti1V3Fnho6",
        "colab_type": "code",
        "colab": {
          "base_uri": "https://localhost:8080/",
          "height": 204
        },
        "outputId": "b51d7d65-011f-4122-be50-4aa31fd21ba5"
      },
      "source": [
        "df.head()"
      ],
      "execution_count": 52,
      "outputs": [
        {
          "output_type": "execute_result",
          "data": {
            "text/html": [
              "<div>\n",
              "<style scoped>\n",
              "    .dataframe tbody tr th:only-of-type {\n",
              "        vertical-align: middle;\n",
              "    }\n",
              "\n",
              "    .dataframe tbody tr th {\n",
              "        vertical-align: top;\n",
              "    }\n",
              "\n",
              "    .dataframe thead th {\n",
              "        text-align: right;\n",
              "    }\n",
              "</style>\n",
              "<table border=\"1\" class=\"dataframe\">\n",
              "  <thead>\n",
              "    <tr style=\"text-align: right;\">\n",
              "      <th></th>\n",
              "      <th>Date</th>\n",
              "      <th>Country</th>\n",
              "      <th>Value</th>\n",
              "    </tr>\n",
              "  </thead>\n",
              "  <tbody>\n",
              "    <tr>\n",
              "      <th>0</th>\n",
              "      <td>2018-06-27</td>\n",
              "      <td>United Kingdom</td>\n",
              "      <td>0.761093</td>\n",
              "    </tr>\n",
              "    <tr>\n",
              "      <th>3</th>\n",
              "      <td>2015-07-16</td>\n",
              "      <td>United Kingdom</td>\n",
              "      <td>0.640985</td>\n",
              "    </tr>\n",
              "    <tr>\n",
              "      <th>4</th>\n",
              "      <td>2015-06-03</td>\n",
              "      <td>United Kingdom</td>\n",
              "      <td>0.651423</td>\n",
              "    </tr>\n",
              "    <tr>\n",
              "      <th>5</th>\n",
              "      <td>2015-03-10</td>\n",
              "      <td>United Kingdom</td>\n",
              "      <td>0.662866</td>\n",
              "    </tr>\n",
              "    <tr>\n",
              "      <th>6</th>\n",
              "      <td>2014-10-23</td>\n",
              "      <td>United Kingdom</td>\n",
              "      <td>0.623558</td>\n",
              "    </tr>\n",
              "  </tbody>\n",
              "</table>\n",
              "</div>"
            ],
            "text/plain": [
              "        Date         Country     Value\n",
              "0 2018-06-27  United Kingdom  0.761093\n",
              "3 2015-07-16  United Kingdom  0.640985\n",
              "4 2015-06-03  United Kingdom  0.651423\n",
              "5 2015-03-10  United Kingdom  0.662866\n",
              "6 2014-10-23  United Kingdom  0.623558"
            ]
          },
          "metadata": {
            "tags": []
          },
          "execution_count": 52
        }
      ]
    },
    {
      "cell_type": "code",
      "metadata": {
        "id": "24IaiJDTnkul",
        "colab_type": "code",
        "colab": {
          "base_uri": "https://localhost:8080/",
          "height": 34
        },
        "outputId": "7302b8d1-4fc8-46e7-e2f7-78e640271f5a"
      },
      "source": [
        "df.shape"
      ],
      "execution_count": 53,
      "outputs": [
        {
          "output_type": "execute_result",
          "data": {
            "text/plain": [
              "(6490, 3)"
            ]
          },
          "metadata": {
            "tags": []
          },
          "execution_count": 53
        }
      ]
    },
    {
      "cell_type": "code",
      "metadata": {
        "id": "ItO0vWy1Y44g",
        "colab_type": "code",
        "colab": {
          "base_uri": "https://localhost:8080/",
          "height": 85
        },
        "outputId": "247f11b9-684f-44a9-b621-4552db4176c0"
      },
      "source": [
        "df.isnull().sum()"
      ],
      "execution_count": 54,
      "outputs": [
        {
          "output_type": "execute_result",
          "data": {
            "text/plain": [
              "Date        0\n",
              "Country     0\n",
              "Value      32\n",
              "dtype: int64"
            ]
          },
          "metadata": {
            "tags": []
          },
          "execution_count": 54
        }
      ]
    },
    {
      "cell_type": "code",
      "metadata": {
        "id": "08lEXoypoOD9",
        "colab_type": "code",
        "colab": {}
      },
      "source": [
        "results = df"
      ],
      "execution_count": 0,
      "outputs": []
    },
    {
      "cell_type": "code",
      "metadata": {
        "id": "V8YEkW2rO2nW",
        "colab_type": "code",
        "colab": {}
      },
      "source": [
        "file_name = 'cleaned_fx_data.csv'\n",
        "export_csv = results.to_csv(file_name, index=None, header=True)"
      ],
      "execution_count": 0,
      "outputs": []
    },
    {
      "cell_type": "code",
      "metadata": {
        "id": "k-6AHzdTU-KW",
        "colab_type": "code",
        "colab": {}
      },
      "source": [
        "files.download('cleaned_fx_data.csv')"
      ],
      "execution_count": 0,
      "outputs": []
    }
  ]
}